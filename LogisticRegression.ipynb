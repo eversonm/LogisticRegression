{
 "cells": [
  {
   "cell_type": "markdown",
   "metadata": {},
   "source": [
    "## Indice\n",
    "\n",
    "[Bibliotecas necessárias](#Bibliotecas-necess%C3%A1rias)<br>\n",
    "[Carregar os dados](#Carregar-os-dados)<br>\n",
    "[Normalizar os dados](#Normalizar-os-dados)<br>\n",
    "[Separar dados em treino e teste](#Separar-dados-em-treino-e-teste)<br>\n",
    "[Regressão Logística](#Regress%C3%A3o-Log%C3%ADstica)<br>\n",
    "[Regressão Logística com regularização L1](#Regress%C3%A3o-Log%C3%ADstica-com-regulariza%C3%A7%C3%A3o-L1)<br>\n",
    "[Alterando os valores de aprendizagem e o lambda](#Alterando-os-valores-de-aprendizagem-e-o-lambda)<br>\n",
    "[Regressão logística sem regularização](#Regress%C3%A3o-Log%C3%ADstica-sem-regulariza%C3%A7%C3%A3o)<br>\n",
    "[Scikit-learn](#Scikit-learn)<br>\n",
    "[Gráficos](#Gr%C3%A1ficos)"
   ]
  },
  {
   "cell_type": "markdown",
   "metadata": {},
   "source": [
    "### Bibliotecas necessárias"
   ]
  },
  {
   "cell_type": "code",
   "execution_count": null,
   "metadata": {},
   "outputs": [],
   "source": [
    "import numpy as np\n",
    "import pandas as pd"
   ]
  },
  {
   "cell_type": "markdown",
   "metadata": {},
   "source": [
    "### Carregar os dados\n",
    "\n",
    "Nessa etapa é feito o carregamento dos dados e tratamento para uso no modelo de regressão logística"
   ]
  },
  {
   "cell_type": "code",
   "execution_count": null,
   "metadata": {},
   "outputs": [],
   "source": [
    "df = pd.read_csv('data/wdbc.data', header=None)"
   ]
  },
  {
   "cell_type": "code",
   "execution_count": null,
   "metadata": {},
   "outputs": [],
   "source": [
    "df[1].value_counts()"
   ]
  },
  {
   "cell_type": "code",
   "execution_count": null,
   "metadata": {},
   "outputs": [],
   "source": [
    "df[1].replace([\"B\",\"M\"], [0,1],inplace=True)"
   ]
  },
  {
   "cell_type": "code",
   "execution_count": null,
   "metadata": {},
   "outputs": [],
   "source": [
    "y = np.array(df[1])"
   ]
  },
  {
   "cell_type": "code",
   "execution_count": null,
   "metadata": {},
   "outputs": [],
   "source": [
    "df.drop(columns=[0,1], inplace=True)"
   ]
  },
  {
   "cell_type": "markdown",
   "metadata": {},
   "source": [
    "### Normalizar os dados\n",
    "Normalização com média 0 e variância unitária"
   ]
  },
  {
   "cell_type": "code",
   "execution_count": null,
   "metadata": {},
   "outputs": [],
   "source": [
    "norm_df=(df-df.mean())/df.std()"
   ]
  },
  {
   "cell_type": "code",
   "execution_count": null,
   "metadata": {},
   "outputs": [],
   "source": [
    "X = np.array(norm_df)"
   ]
  },
  {
   "cell_type": "code",
   "execution_count": null,
   "metadata": {},
   "outputs": [],
   "source": [
    "norm_df[32] = y"
   ]
  },
  {
   "cell_type": "markdown",
   "metadata": {},
   "source": [
    "### Separar dados em treino e teste"
   ]
  },
  {
   "cell_type": "code",
   "execution_count": null,
   "metadata": {},
   "outputs": [],
   "source": [
    "# Definir quantos % do dataset será usado para treino\n",
    "train=norm_df.sample(frac=0.7,random_state=np.random.RandomState())\n",
    "test=norm_df.drop(train.index)\n",
    "\n",
    "X_train = np.array(train.iloc[:,:30])\n",
    "y_train = np.array(train.iloc[:,30:31]).flatten()\n",
    "\n",
    "X_test = np.array(test.iloc[:,:30])\n",
    "y_test = np.array(test.iloc[:,30:31]).flatten()\n",
    "print(\"Dataset de treino:\", X_train.shape, y_train.shape)\n",
    "print(\"Dataset de teste:\", X_test.shape, y_test.shape)"
   ]
  },
  {
   "cell_type": "markdown",
   "metadata": {},
   "source": [
    "## Regressão Logística\n",
    "Podemos usar regularização no cálculo do gradiente, com a função `logisticRegressionReg`"
   ]
  },
  {
   "cell_type": "code",
   "execution_count": null,
   "metadata": {},
   "outputs": [],
   "source": [
    "def addOnes(X):\n",
    "    ones = np.ones((X.shape[0], 1))\n",
    "    return np.concatenate((ones, X), axis=1)\n",
    "\n",
    "def sigmoid(z):\n",
    "    return 1 / (1 + np.exp(-z))\n",
    "\n",
    "def costFunction(h, y):\n",
    "    return (-y * np.log(h) - (1 - y) * np.log(1 - h)).mean()\n",
    "\n",
    "def costFunctionReg(h, y, lambda_, weights):\n",
    "    return (-y * np.log(h) - (1 - y) * np.log(1 - h)).mean() + (lambda_*(weights**2)).mean()/2\n",
    "\n",
    "def logisticRegressionReg(X, y, weights, num_iter, alfa, lambda_):\n",
    "\n",
    "    #weights = np.zeros(X.shape[1])\n",
    "    J = []\n",
    "    grad = []\n",
    "    \n",
    "    for i in range(num_iter):\n",
    "        z = np.dot(X, weights)\n",
    "        h = sigmoid(z)\n",
    "        \n",
    "        J.append(costFunctionReg(h, y, lambda_, weights))\n",
    "        print(\"Epoca: {} - Custo: {}\".format(i+1,J[i]))\n",
    "        \n",
    "        gradient = np.dot(X.T, (h - y)) / y.size\n",
    "        \n",
    "        grad.append(gradient)\n",
    "        \n",
    "        regularized = lambda_*weights / y.size\n",
    "        if i == 0:\n",
    "            regularized = 0\n",
    "        weights -= alfa * (gradient + regularized)\n",
    "    return weights, J, grad\n",
    "\n",
    "def logisticRegression(X, y, num_iter, alfa, lambda_):\n",
    "\n",
    "    weights = np.zeros(X.shape[1])\n",
    "    J = []\n",
    "    grad = []\n",
    "\n",
    "    for i in range(num_iter):\n",
    "        z = np.dot(X, weights)\n",
    "        h = sigmoid(z)\n",
    "        J.append(costFunction(h, y))\n",
    "        print(\"Epoca: {} - Custo: {}\".format(i+1,J[i]))\n",
    "        gradient = np.dot(X.T, (h - y)) / y.size\n",
    "        grad.append(gradient)\n",
    "        weights -= alfa * gradient\n",
    "    return weights, J, grad\n",
    "\n",
    "def predict_prob(X, weights):  \n",
    "    return sigmoid(np.dot(X, weights))"
   ]
  },
  {
   "cell_type": "markdown",
   "metadata": {},
   "source": [
    "### Regressão Logística com regularização L1"
   ]
  },
  {
   "cell_type": "code",
   "execution_count": null,
   "metadata": {
    "scrolled": true
   },
   "outputs": [],
   "source": [
    "learning_rate=0.005\n",
    "lambda_=0.07\n",
    "num_iter=100\n",
    "\n",
    "weights = np.zeros(shape=X_train.shape[1]+1)\n",
    "\n",
    "w, J, grad = logisticRegressionReg(addOnes(X_train), y_train, weights, num_iter, learning_rate, lambda_)\n",
    "pred = np.around(predict_prob(addOnes(X_test), w).flatten())\n",
    "(y_test==pred).mean()"
   ]
  },
  {
   "cell_type": "markdown",
   "metadata": {},
   "source": [
    "#### Plotar o gráfico\n",
    "[Clique aqui](#Gráficos)"
   ]
  },
  {
   "cell_type": "markdown",
   "metadata": {},
   "source": [
    "### Alterando os valores de aprendizagem e o lambda"
   ]
  },
  {
   "cell_type": "code",
   "execution_count": null,
   "metadata": {},
   "outputs": [],
   "source": [
    "learning_rate=0.01\n",
    "lambda_=0.01\n",
    "num_iter=10\n",
    "weights = np.zeros(shape=X_train.shape[1]+1)\n",
    "\n",
    "w, J, grad = logisticRegressionReg(addOnes(X_train), y_train, weights, num_iter, learning_rate, lambda_)\n",
    "pred = np.around(predict_prob(addOnes(X_test), w).flatten())\n",
    "(y_test==pred).mean()"
   ]
  },
  {
   "cell_type": "markdown",
   "metadata": {},
   "source": [
    "#### Plotar o gráfico\n",
    "[Clique aqui](#Gráficos)"
   ]
  },
  {
   "cell_type": "markdown",
   "metadata": {},
   "source": [
    "### Regressão Logística sem regularização\n"
   ]
  },
  {
   "cell_type": "code",
   "execution_count": null,
   "metadata": {
    "scrolled": true
   },
   "outputs": [],
   "source": [
    "learning_rate=0.7\n",
    "lambda_=0.9\n",
    "num_iter=50\n",
    "\n",
    "w,J,grad = logisticRegression(addOnes(X_train), y_train, num_iter, learning_rate, lambda_)\n",
    "pred = np.around(predict_prob(addOnes(X_test), w).flatten())\n",
    "(y_test==pred).mean()"
   ]
  },
  {
   "cell_type": "markdown",
   "metadata": {},
   "source": [
    "#### Plotar o gráfico\n",
    "[Clique aqui](#Gráficos)"
   ]
  },
  {
   "cell_type": "markdown",
   "metadata": {},
   "source": [
    "## Scikit-learn\n",
    "\n",
    "Podemos mostrar a acurácia da biblioteca do [Scikit-Learn](https://scikit-learn.org/) com o modelo linear [LogisticRegression](https://scikit-learn.org/stable/modules/generated/sklearn.linear_model.LogisticRegression.html)"
   ]
  },
  {
   "cell_type": "code",
   "execution_count": null,
   "metadata": {},
   "outputs": [],
   "source": [
    "from sklearn.datasets import make_classification\n",
    "from sklearn.linear_model import LogisticRegression\n",
    "from sklearn.model_selection import train_test_split\n",
    "from sklearn.pipeline import make_pipeline\n",
    "from sklearn.preprocessing import StandardScaler"
   ]
  },
  {
   "cell_type": "code",
   "execution_count": null,
   "metadata": {},
   "outputs": [],
   "source": [
    "#X, y = make_classification(random_state=0)\n",
    "X_train, X_test, y_train, y_test = train_test_split(X, y, random_state=42, train_size=0.8)\n",
    "pipe = make_pipeline(StandardScaler(), LogisticRegression(max_iter=100))\n",
    "pipe.fit(X_train, y_train)  "
   ]
  },
  {
   "cell_type": "code",
   "execution_count": null,
   "metadata": {
    "scrolled": true
   },
   "outputs": [],
   "source": [
    "pipe.score(X_test, y_test)"
   ]
  },
  {
   "cell_type": "markdown",
   "metadata": {},
   "source": [
    "## Outra forma de uso\n",
    "Forma mais linear, normalizando os dados e aplicado a regressão logística sob os dados de treino."
   ]
  },
  {
   "cell_type": "code",
   "execution_count": null,
   "metadata": {},
   "outputs": [],
   "source": [
    "from sklearn.linear_model import LogisticRegression\n",
    "from sklearn import preprocessing"
   ]
  },
  {
   "cell_type": "code",
   "execution_count": null,
   "metadata": {},
   "outputs": [],
   "source": [
    "scaler = preprocessing.StandardScaler().fit(X_train)\n",
    "X_scaled = scaler.transform(X_train)\n",
    "X_scl = scaler.transform(X_test)\n",
    "\n",
    "clf = LogisticRegression(random_state=42).fit(X_scaled, y_train)\n",
    "clf.predict(X_scl)\n",
    "clf.score(X_scaled, y_train)"
   ]
  },
  {
   "cell_type": "markdown",
   "metadata": {},
   "source": [
    "## Gráficos"
   ]
  },
  {
   "cell_type": "code",
   "execution_count": null,
   "metadata": {},
   "outputs": [],
   "source": [
    "from plotly.subplots import make_subplots\n",
    "import plotly.graph_objects as go"
   ]
  },
  {
   "cell_type": "code",
   "execution_count": null,
   "metadata": {},
   "outputs": [],
   "source": [
    "fig = make_subplots(rows=3, cols=1)\n",
    "fig.add_trace(go.Scatter(x=np.arange(1,len(J)+1), y=J,\n",
    "                    mode='lines+markers',\n",
    "                    name='costFunction'),row=1, col=1)\n",
    "\n",
    "fig.add_trace(go.Scatter(x=np.arange(1,len(grad[0])+1), y=grad[0],\n",
    "                    mode='lines+markers',\n",
    "                    name='initialGradient'),row=2, col=1)\n",
    "\n",
    "fig.add_trace(go.Scatter(x=np.arange(1,len(grad[-1])+1), y=grad[-1],\n",
    "                    mode='lines+markers',\n",
    "                    name='finalGradient'),row=3, col=1)\n",
    "fig.show()"
   ]
  },
  {
   "cell_type": "markdown",
   "metadata": {},
   "source": [
    "### Voltar para Indice\n",
    "[Clique aqui](#Indice)"
   ]
  },
  {
   "cell_type": "markdown",
   "metadata": {},
   "source": [
    "### Integrantes\n",
    "\n",
    "Everson Magalhães Cavalcante - 384351 <br>\n",
    "Lucas da Silva Gouveia - 384363 <br>\n",
    "Ubiratan de Oliveira Junior - 397322"
   ]
  },
  {
   "cell_type": "markdown",
   "metadata": {},
   "source": [
    "## Referências\n",
    "\n",
    "#### Bibliotecas\n",
    "1. [Numpy](https://numpy.org/doc/1.19/)\n",
    "2. [Pandas](https://pandas.pydata.org/docs/)\n",
    "3. [Markdown](https://daringfireball.net/projects/markdown/basics)\n",
    "4. [Plotly](https://plotly.com/python/)\n",
    "\n",
    "    4.1. [LineChart](https://plotly.com/python/line-charts/)\n",
    "    \n",
    "    \n",
    "5. [Scikit-Learn](https://scikit-learn.org)\n",
    "\n",
    "    5.1. [Logistic Regression](https://scikit-learn.org/stable/modules/generated/sklearn.linear_model.LogisticRegression.html)"
   ]
  }
 ],
 "metadata": {
  "kernelspec": {
   "display_name": "Python 3",
   "language": "python",
   "name": "python3"
  },
  "language_info": {
   "codemirror_mode": {
    "name": "ipython",
    "version": 3
   },
   "file_extension": ".py",
   "mimetype": "text/x-python",
   "name": "python",
   "nbconvert_exporter": "python",
   "pygments_lexer": "ipython3",
   "version": "3.7.7"
  }
 },
 "nbformat": 4,
 "nbformat_minor": 4
}
